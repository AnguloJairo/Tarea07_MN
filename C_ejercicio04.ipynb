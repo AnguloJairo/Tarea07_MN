{
 "cells": [
  {
   "attachments": {
    "image.png": {
     "image/png": "[encoded data removed]"
    }
   },
   "cell_type": "markdown",
   "id": "2ce5e143",
   "metadata": {},
   "source": [
    "# Ejercicio 04\n",
    "![image.png](attachment:image.png)"
   ]
  },
  {
   "cell_type": "code",
   "execution_count": 3,
   "id": "4946fc8c",
   "metadata": {},
   "outputs": [],
   "source": [
    "import sympy as sym\n",
    "from IPython.display import display\n",
    "\n",
    "def cubic_spline(xs: list[float], ys: list[float]) -> list[sym.Symbol]:\n",
    "\n",
    "    points = sorted(zip(xs, ys), key=lambda x: x[0])\n",
    "    xs = [x for x, _ in points]\n",
    "    ys = [y for _, y in points]\n",
    "    \n",
    "    n = len(points) - 1  \n",
    "    h = [xs[i+1] - xs[i] for i in range(n)]  \n",
    "    \n",
    "    alpha = [0] * (n+1)\n",
    "    for i in range(1, n):\n",
    "        alpha[i] = (3/h[i])*(ys[i+1]-ys[i]) - (3/h[i-1])*(ys[i]-ys[i-1])\n",
    "    \n",
    "    l = [1.0]  \n",
    "    mu = [0.0] \n",
    "    z = [0.0]  \n",
    "    \n",
    "    for i in range(1, n):\n",
    "        l.append(2*(xs[i+1]-xs[i-1]) - h[i-1]*mu[i-1])\n",
    "        mu.append(h[i]/l[i])\n",
    "        z.append((alpha[i] - h[i-1]*z[i-1])/l[i])\n",
    "    \n",
    "    l.append(1.0)\n",
    "    z.append(0.0)\n",
    "    c = [0.0]*(n+1)\n",
    "    \n",
    "    for i in range(n-1, -1, -1):\n",
    "        c[i] = z[i] - mu[i]*c[i+1]\n",
    "    \n",
    "    x = sym.Symbol('x')\n",
    "    splines = []\n",
    "    \n",
    "    for j in range(n):\n",
    "        a = ys[j]\n",
    "        b = (ys[j+1]-ys[j])/h[j] - h[j]*(c[j+1]+2*c[j])/3\n",
    "        d = (c[j+1]-c[j])/(3*h[j])\n",
    "        \n",
    "        S = a + b*(x-xs[j]) + c[j]*(x-xs[j])**2 + d*(x-xs[j])**3\n",
    "        splines.append(S)\n",
    "    \n",
    "    return splines\n",
    "\n"
   ]
  },
  {
   "cell_type": "code",
   "execution_count": 2,
   "id": "6423caac",
   "metadata": {},
   "outputs": [
    {
     "name": "stdout",
     "output_type": "stream",
     "text": [
      "Spline expressions:\n"
     ]
    },
    {
     "data": {
      "text/latex": [
       "$\\displaystyle 0.25 x^{3} + 0.75 x + 2$"
      ],
      "text/plain": [
       "0.25*x**3 + 0.75*x + 2"
      ]
     },
     "metadata": {},
     "output_type": "display_data"
    },
    {
     "data": {
      "text/latex": [
       "$\\displaystyle 1.5 x - 0.25 \\left(x - 1\\right)^{3} + 0.75 \\left(x - 1\\right)^{2} + 1.5$"
      ],
      "text/plain": [
       "1.5*x - 0.25*(x - 1)**3 + 0.75*(x - 1)**2 + 1.5"
      ]
     },
     "metadata": {},
     "output_type": "display_data"
    },
    {
     "name": "stdout",
     "output_type": "stream",
     "text": [
      "\n",
      "Expanded forms:\n"
     ]
    },
    {
     "data": {
      "text/latex": [
       "$\\displaystyle 0.25 x^{3} + 0.75 x + 2$"
      ],
      "text/plain": [
       "0.25*x**3 + 0.75*x + 2"
      ]
     },
     "metadata": {},
     "output_type": "display_data"
    },
    {
     "data": {
      "text/latex": [
       "$\\displaystyle - 0.25 x^{3} + 1.5 x^{2} - 0.75 x + 2.5$"
      ],
      "text/plain": [
       "-0.25*x**3 + 1.5*x**2 - 0.75*x + 2.5"
      ]
     },
     "metadata": {},
     "output_type": "display_data"
    }
   ],
   "source": [
    "# Example usage\n",
    "xs = [0, 1, 2]\n",
    "ys = [2, 3, 5]\n",
    "\n",
    "splines = cubic_spline(xs=xs, ys=ys)\n",
    "print(\"Spline expressions:\")\n",
    "_ = [display(s) for s in splines]\n",
    "print(\"\\nExpanded forms:\")\n",
    "_ = [display(s.expand()) for s in splines]"
   ]
  }
 ],
 "metadata": {
  "kernelspec": {
   "display_name": "Python 3",
   "language": "python",
   "name": "python3"
  },
  "language_info": {
   "codemirror_mode": {
    "name": "ipython",
    "version": 3
   },
   "file_extension": ".py",
   "mimetype": "text/x-python",
   "name": "python",
   "nbconvert_exporter": "python",
   "pygments_lexer": "ipython3",
   "version": "3.13.0"
  }
 },
 "nbformat": 4,
 "nbformat_minor": 5
}
